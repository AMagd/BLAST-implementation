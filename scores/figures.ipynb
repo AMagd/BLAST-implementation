{
 "cells": [
  {
   "cell_type": "code",
   "execution_count": null,
   "source": [
    "import pandas as pd\n",
    "from pathlib import Path\n",
    "import matplotlib.pyplot as plt\n",
    "\n",
    "MAX_X = 1e8\n",
    "STEPS_RESOLUTION = int(1e6)"
   ],
   "outputs": [],
   "metadata": {}
  },
  {
   "cell_type": "code",
   "execution_count": null,
   "source": [
    "## Read online experiments\n",
    "\n",
    "df = pd.concat([pd.read_csv(f) for f in Path('online').glob('*.csv')])\n",
    "df['env'] = df['env'].str.slice(6)  # drop dmlab_ prefix\n",
    "df['version'] = df['run'].str.extract(r'((?:_[a-z]+[0-9]+)+)', expand=False).fillna('').str.lstrip('_')  # extract version\n",
    "df = df[~df['env_steps'].isna()]\n",
    "df['env_steps'] = (df['env_steps'].astype(int) // STEPS_RESOLUTION) * STEPS_RESOLUTION  # bucketize env_steps\n",
    "df = df.groupby(['env', 'version', 'env_steps']).mean().reset_index()  # aggregate\n",
    "data = df\n",
    "# df['version'].unique()\n",
    "df"
   ],
   "outputs": [],
   "metadata": {}
  },
  {
   "cell_type": "code",
   "execution_count": null,
   "source": [
    "## Read baselines\n",
    "\n",
    "df = pd.read_csv('baselines/dmlab_baselines.csv')\n",
    "df = df[df['method'].isin(['r2d2_plus_1e10'])]\n",
    "df['env'] = df['env'].str.slice(6)  # drop dmlab_ prefix\n",
    "df = pd.concat([df.assign(env_steps=0), df.assign(env_steps=MAX_X)])\n",
    "data_baselines = df"
   ],
   "outputs": [],
   "metadata": {}
  },
  {
   "cell_type": "code",
   "execution_count": null,
   "source": [
    "## DMLab30 figure\n",
    "\n",
    "df = data\n",
    "dfb = data_baselines\n",
    "\n",
    "dfg = df.groupby(['env'])\n",
    "fig, axes = plt.subplots(nrows=6, ncols=5, figsize=(18,12), sharex=True)\n",
    "\n",
    "for (key_env, g_env), ax in zip(dfg, axes.flatten()):\n",
    "    # Plot experiment\n",
    "    for key_version, g in g_env.groupby(['version']):\n",
    "        ax.plot(g['env_steps'], g['return'], label=key_version)\n",
    "    # Plot baselines\n",
    "    dfbf = dfb[dfb['env'] == key_env]\n",
    "    if len(dfbf) > 0:\n",
    "        ax.plot(dfbf['env_steps'], dfbf['return'], color='gray', linestyle='dashed')  # label=dfbf.iloc[0]['method']\n",
    "    # Chart properties\n",
    "    ax.set_title(key_env)\n",
    "    ax.set_xlim([0, MAX_X])\n",
    "    ax.set_ylim(bottom=min(g_env['return'].min(), -5))\n",
    "\n",
    "fig.legend()\n",
    "plt.show()"
   ],
   "outputs": [],
   "metadata": {}
  }
 ],
 "metadata": {
  "orig_nbformat": 4,
  "language_info": {
   "name": "python",
   "version": "3.8.5",
   "mimetype": "text/x-python",
   "codemirror_mode": {
    "name": "ipython",
    "version": 3
   },
   "pygments_lexer": "ipython3",
   "nbconvert_exporter": "python",
   "file_extension": ".py"
  },
  "kernelspec": {
   "name": "python3",
   "display_name": "Python 3.8.5 64-bit ('pydreamer': conda)"
  },
  "interpreter": {
   "hash": "34ee81661ab45a9cfa1002ff39421df2cc2a834957b4c9cc215e2d92e6c4e13d"
  }
 },
 "nbformat": 4,
 "nbformat_minor": 2
}