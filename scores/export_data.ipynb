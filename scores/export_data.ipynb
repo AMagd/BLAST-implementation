{
 "cells": [
  {
   "cell_type": "code",
   "execution_count": 60,
   "source": [
    "import os\n",
    "import pandas as pd\n",
    "import mlflow\n",
    "from mlflow.tracking import MlflowClient\n",
    "\n",
    "os.environ['MLFLOW_TRACKING_URI'] = 'http://mlflow.threethirds.ai:30000'"
   ],
   "outputs": [],
   "metadata": {}
  },
  {
   "cell_type": "code",
   "execution_count": 83,
   "source": [
    "def load_runs(experiment_id, query):\n",
    "    df = mlflow.search_runs(experiment_id, f'tags.mlflow.runName like \"{query}\"')\n",
    "    df[\"id\"] = df[\"run_id\"]\n",
    "    df[\"run\"] = df[\"tags.mlflow.runName\"]\n",
    "    df[\"run\"].str.cat(df.groupby(\"run\").cumcount().apply(lambda i: '' if i == 0 else f'_{i}'))  # deduplicate run\n",
    "    df[\"env\"] = df[\"params.env_id\"].str.replace(\"DmLab-\", \"dmlab_\")\n",
    "    df = df[[\"id\", \"run\", \"env\"]].sort_values(\"run\")\n",
    "    return df\n",
    "\n",
    "def mlflow_get_metrics(run_id, metric, value_column='y', x_bucket=1):\n",
    "    hist = MlflowClient().get_metric_history(run_id, metric)\n",
    "    df = pd.DataFrame({\n",
    "        'x': [(m.step // x_bucket + 1) * x_bucket for m in hist],\n",
    "        value_column: [m.value for m in hist],\n",
    "    })\n",
    "    return df\n",
    "\n",
    "def load_run_metrics(run, x_bucket):\n",
    "    run_id = run['id']\n",
    "    metrics = {\n",
    "        'return': 'agent/return',\n",
    "        'return_eval': 'agent/return_eval',\n",
    "        'agent_steps': 'train/data_steps',\n",
    "    }\n",
    "    df = None\n",
    "    for k, v in metrics.items():\n",
    "        df1 = mlflow_get_metrics(run_id, v, k, x_bucket).groupby('x').mean()\n",
    "        df = df1 if df is None else df.combine_first(df1)\n",
    "\n",
    "    df = df.reset_index().rename(columns={'x': 'train_steps'})\n",
    "    df['env_steps'] = df['agent_steps'] * 4\n",
    "    df['env'] = run['env']\n",
    "    df['run'] = run['run']\n",
    "    return df"
   ],
   "outputs": [],
   "metadata": {}
  },
  {
   "cell_type": "code",
   "execution_count": 89,
   "source": [
    "data_runs = df = load_runs(45, 'dmlab_%')\n",
    "for i, run in data_runs.iterrows():\n",
    "    df = load_run_metrics(run, 5000)\n",
    "    df.to_csv(f'online/{run[\"run\"]}.csv', index=False)\n"
   ],
   "outputs": [],
   "metadata": {}
  }
 ],
 "metadata": {
  "orig_nbformat": 4,
  "language_info": {
   "name": "python",
   "version": "3.8.5",
   "mimetype": "text/x-python",
   "codemirror_mode": {
    "name": "ipython",
    "version": 3
   },
   "pygments_lexer": "ipython3",
   "nbconvert_exporter": "python",
   "file_extension": ".py"
  },
  "kernelspec": {
   "name": "python3",
   "display_name": "Python 3.8.5 64-bit ('pydreamer': conda)"
  },
  "interpreter": {
   "hash": "34ee81661ab45a9cfa1002ff39421df2cc2a834957b4c9cc215e2d92e6c4e13d"
  }
 },
 "nbformat": 4,
 "nbformat_minor": 2
}