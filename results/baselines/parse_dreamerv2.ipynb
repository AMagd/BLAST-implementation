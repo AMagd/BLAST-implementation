{
 "cells": [
  {
   "cell_type": "code",
   "execution_count": 42,
   "metadata": {},
   "outputs": [],
   "source": [
    "import pandas as pd\n",
    "\n",
    "def parse_json(fname):\n",
    "    df = pd.read_json(fname)\n",
    "    df = df.rename(columns={'task': 'env'})  # type: ignore\n",
    "    df['seed'] = df['env'] + '_' + df['method'] + '_' + df['seed'].astype(str)\n",
    "    df = df.rename(columns={'seed': 'run'})\n",
    "    dfxs = df.explode('xs')\n",
    "    dfys = df.explode('ys')\n",
    "    df = dfxs\n",
    "    df['ys'] = dfys['ys']\n",
    "    df = df.rename(columns={'xs': 'env_steps', 'ys': 'return'})\n",
    "    return df"
   ]
  },
  {
   "cell_type": "code",
   "execution_count": 44,
   "metadata": {},
   "outputs": [],
   "source": [
    "df = parse_json('atari-dreamerv2.json')\n",
    "df.to_csv('atari-dreamerv2.csv', index=False)\n",
    "# df[df['env'] == 'atari_breakout'].pivot(index='env_steps', columns='run', values='return').plot(legend=False)"
   ]
  },
  {
   "cell_type": "code",
   "execution_count": 47,
   "metadata": {},
   "outputs": [],
   "source": [
    "df = parse_json('montezuma-dreamerv2.json')\n",
    "df.to_csv('montezuma-dreamerv2.csv', index=False)\n",
    "# df.pivot(index='env_steps', columns='run', values='return').plot()"
   ]
  }
 ],
 "metadata": {
  "interpreter": {
   "hash": "5edc5171bde170568d9b218d33d0e3dc4de16dbdd983c2ff34b21341823ff124"
  },
  "kernelspec": {
   "display_name": "Python 3.8.5 64-bit ('pydreamer': conda)",
   "name": "python3"
  },
  "language_info": {
   "codemirror_mode": {
    "name": "ipython",
    "version": 3
   },
   "file_extension": ".py",
   "mimetype": "text/x-python",
   "name": "python",
   "nbconvert_exporter": "python",
   "pygments_lexer": "ipython3",
   "version": "3.8.5"
  },
  "orig_nbformat": 4
 },
 "nbformat": 4,
 "nbformat_minor": 2
}
