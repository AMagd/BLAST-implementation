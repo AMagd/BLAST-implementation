{
 "cells": [
  {
   "cell_type": "code",
   "execution_count": 41,
   "metadata": {},
   "outputs": [],
   "source": [
    "from typing import Dict\n",
    "import tempfile\n",
    "from pathlib import Path\n",
    "import numpy as np\n",
    "from mlflow.tracking import MlflowClient\n",
    "import mlflow\n",
    "from mlflow.artifacts import download_artifacts\n",
    "\n",
    "FPS = 10\n",
    "B, T = 5, 50\n",
    "\n",
    "def download_artifact_npz(run_id, artifact_path) -> Dict[str, np.ndarray]:\n",
    "    client = MlflowClient()\n",
    "    with tempfile.TemporaryDirectory() as tmpdir:\n",
    "        # path = download_artifacts(run_id=run_id, artifact_path=artifact_path)\n",
    "        path = f'/home/user/data/Ahmad/Ahmad/pydreamer/mlruns/0/{run_id}/artifacts/{artifact_path}'\n",
    "        with Path(path).open('rb') as f:\n",
    "            data = np.load(f)\n",
    "            return {k: data[k] for k in data.keys()}  # type: ignore\n",
    "\n",
    "def encode_gif(frames, fps):\n",
    "    # Copyright Danijar\n",
    "    from subprocess import Popen, PIPE\n",
    "    h, w, c = frames[0].shape\n",
    "    pxfmt = {1: 'gray', 3: 'rgb24'}[c]\n",
    "    cmd = ' '.join([\n",
    "        'ffmpeg -y -f rawvideo -vcodec rawvideo',\n",
    "        f'-r {fps:.02f} -s {w}x{h} -pix_fmt {pxfmt} -i - -filter_complex',\n",
    "        '[0:v]split[x][z];[z]palettegen[y];[x]fifo[x];[x][y]paletteuse',\n",
    "        f'-r {fps:.02f} -f gif -'])\n",
    "    proc = Popen(cmd.split(' '), stdin=PIPE, stdout=PIPE, stderr=PIPE)\n",
    "    for image in frames:\n",
    "        proc.stdin.write(image.tobytes())  # type: ignore\n",
    "    out, err = proc.communicate()\n",
    "    if proc.returncode:\n",
    "        raise IOError('\\n'.join([' '.join(cmd), err.decode('utf8')]))\n",
    "    del proc\n",
    "    return out\n",
    "\n",
    "def make_gif(env_name, run_id, step, fps=FPS):\n",
    "    dest_path = f'figures/dream_{env_name}_{step}.gif'\n",
    "    artifact = f'd2_wm_dream/{step}.npz'\n",
    "    data = download_artifact_npz(run_id, artifact)\n",
    "    img = data['image_pred']\n",
    "    print(img.shape)\n",
    "    img = img[:B, :T].reshape((-1, 64, 64, 3))\n",
    "    gif = encode_gif(img, fps)\n",
    "    with Path(dest_path).open('wb') as f:\n",
    "        f.write(gif)"
   ]
  },
  {
   "cell_type": "code",
   "execution_count": 42,
   "metadata": {},
   "outputs": [
    {
     "ename": "FileNotFoundError",
     "evalue": "[Errno 2] No such file or directory: '/home/user/data/Ahmad/Ahmad/pydreamer/mlruns/0/e9fc2df4b33741099f1335f3ac6974e5/artifacts/d2_wm_dream/d2_wm_dream/0080001.npz'",
     "output_type": "error",
     "traceback": [
      "\u001b[0;31m---------------------------------------------------------------------------\u001b[0m",
      "\u001b[0;31mFileNotFoundError\u001b[0m                         Traceback (most recent call last)",
      "Cell \u001b[0;32mIn[42], line 3\u001b[0m\n\u001b[1;32m      1\u001b[0m \u001b[39m# Montezuma\u001b[39;00m\n\u001b[0;32m----> 3\u001b[0m make_gif(\u001b[39m'\u001b[39;49m\u001b[39matari_pong\u001b[39;49m\u001b[39m'\u001b[39;49m, \u001b[39m'\u001b[39;49m\u001b[39me9fc2df4b33741099f1335f3ac6974e5\u001b[39;49m\u001b[39m'\u001b[39;49m, \u001b[39m'\u001b[39;49m\u001b[39m0080001\u001b[39;49m\u001b[39m'\u001b[39;49m)\n\u001b[1;32m      4\u001b[0m \u001b[39m# make_gif('atari_pong', '83e5def4975242ccbf16a3ca8f62a674', '0500001')\u001b[39;00m\n",
      "Cell \u001b[0;32mIn[41], line 43\u001b[0m, in \u001b[0;36mmake_gif\u001b[0;34m(env_name, run_id, step, fps)\u001b[0m\n\u001b[1;32m     41\u001b[0m dest_path \u001b[39m=\u001b[39m \u001b[39mf\u001b[39m\u001b[39m'\u001b[39m\u001b[39mfigures/dream_\u001b[39m\u001b[39m{\u001b[39;00menv_name\u001b[39m}\u001b[39;00m\u001b[39m_\u001b[39m\u001b[39m{\u001b[39;00mstep\u001b[39m}\u001b[39;00m\u001b[39m.gif\u001b[39m\u001b[39m'\u001b[39m\n\u001b[1;32m     42\u001b[0m artifact \u001b[39m=\u001b[39m \u001b[39mf\u001b[39m\u001b[39m'\u001b[39m\u001b[39md2_wm_dream/\u001b[39m\u001b[39m{\u001b[39;00mstep\u001b[39m}\u001b[39;00m\u001b[39m.npz\u001b[39m\u001b[39m'\u001b[39m\n\u001b[0;32m---> 43\u001b[0m data \u001b[39m=\u001b[39m download_artifact_npz(run_id, artifact)\n\u001b[1;32m     44\u001b[0m img \u001b[39m=\u001b[39m data[\u001b[39m'\u001b[39m\u001b[39mimage_pred\u001b[39m\u001b[39m'\u001b[39m]\n\u001b[1;32m     45\u001b[0m \u001b[39mprint\u001b[39m(img\u001b[39m.\u001b[39mshape)\n",
      "Cell \u001b[0;32mIn[41], line 17\u001b[0m, in \u001b[0;36mdownload_artifact_npz\u001b[0;34m(run_id, artifact_path)\u001b[0m\n\u001b[1;32m     14\u001b[0m \u001b[39mwith\u001b[39;00m tempfile\u001b[39m.\u001b[39mTemporaryDirectory() \u001b[39mas\u001b[39;00m tmpdir:\n\u001b[1;32m     15\u001b[0m     \u001b[39m# path = download_artifacts(run_id=run_id, artifact_path=artifact_path)\u001b[39;00m\n\u001b[1;32m     16\u001b[0m     path \u001b[39m=\u001b[39m \u001b[39mf\u001b[39m\u001b[39m'\u001b[39m\u001b[39m/home/user/data/Ahmad/Ahmad/pydreamer/mlruns/0/\u001b[39m\u001b[39m{\u001b[39;00mrun_id\u001b[39m}\u001b[39;00m\u001b[39m/artifacts/d2_wm_dream/\u001b[39m\u001b[39m{\u001b[39;00martifact_path\u001b[39m}\u001b[39;00m\u001b[39m'\u001b[39m\n\u001b[0;32m---> 17\u001b[0m     \u001b[39mwith\u001b[39;00m Path(path)\u001b[39m.\u001b[39;49mopen(\u001b[39m'\u001b[39;49m\u001b[39mrb\u001b[39;49m\u001b[39m'\u001b[39;49m) \u001b[39mas\u001b[39;00m f:\n\u001b[1;32m     18\u001b[0m         data \u001b[39m=\u001b[39m np\u001b[39m.\u001b[39mload(f)\n\u001b[1;32m     19\u001b[0m         \u001b[39mreturn\u001b[39;00m {k: data[k] \u001b[39mfor\u001b[39;00m k \u001b[39min\u001b[39;00m data\u001b[39m.\u001b[39mkeys()}\n",
      "File \u001b[0;32m~/anaconda3/envs/ahmad-pydreamer/lib/python3.9/pathlib.py:1252\u001b[0m, in \u001b[0;36mPath.open\u001b[0;34m(self, mode, buffering, encoding, errors, newline)\u001b[0m\n\u001b[1;32m   1246\u001b[0m \u001b[39mdef\u001b[39;00m \u001b[39mopen\u001b[39m(\u001b[39mself\u001b[39m, mode\u001b[39m=\u001b[39m\u001b[39m'\u001b[39m\u001b[39mr\u001b[39m\u001b[39m'\u001b[39m, buffering\u001b[39m=\u001b[39m\u001b[39m-\u001b[39m\u001b[39m1\u001b[39m, encoding\u001b[39m=\u001b[39m\u001b[39mNone\u001b[39;00m,\n\u001b[1;32m   1247\u001b[0m          errors\u001b[39m=\u001b[39m\u001b[39mNone\u001b[39;00m, newline\u001b[39m=\u001b[39m\u001b[39mNone\u001b[39;00m):\n\u001b[1;32m   1248\u001b[0m \u001b[39m    \u001b[39m\u001b[39m\"\"\"\u001b[39;00m\n\u001b[1;32m   1249\u001b[0m \u001b[39m    Open the file pointed by this path and return a file object, as\u001b[39;00m\n\u001b[1;32m   1250\u001b[0m \u001b[39m    the built-in open() function does.\u001b[39;00m\n\u001b[1;32m   1251\u001b[0m \u001b[39m    \"\"\"\u001b[39;00m\n\u001b[0;32m-> 1252\u001b[0m     \u001b[39mreturn\u001b[39;00m io\u001b[39m.\u001b[39;49mopen(\u001b[39mself\u001b[39;49m, mode, buffering, encoding, errors, newline,\n\u001b[1;32m   1253\u001b[0m                    opener\u001b[39m=\u001b[39;49m\u001b[39mself\u001b[39;49m\u001b[39m.\u001b[39;49m_opener)\n",
      "File \u001b[0;32m~/anaconda3/envs/ahmad-pydreamer/lib/python3.9/pathlib.py:1120\u001b[0m, in \u001b[0;36mPath._opener\u001b[0;34m(self, name, flags, mode)\u001b[0m\n\u001b[1;32m   1118\u001b[0m \u001b[39mdef\u001b[39;00m \u001b[39m_opener\u001b[39m(\u001b[39mself\u001b[39m, name, flags, mode\u001b[39m=\u001b[39m\u001b[39m0o666\u001b[39m):\n\u001b[1;32m   1119\u001b[0m     \u001b[39m# A stub for the opener argument to built-in open()\u001b[39;00m\n\u001b[0;32m-> 1120\u001b[0m     \u001b[39mreturn\u001b[39;00m \u001b[39mself\u001b[39;49m\u001b[39m.\u001b[39;49m_accessor\u001b[39m.\u001b[39;49mopen(\u001b[39mself\u001b[39;49m, flags, mode)\n",
      "\u001b[0;31mFileNotFoundError\u001b[0m: [Errno 2] No such file or directory: '/home/user/data/Ahmad/Ahmad/pydreamer/mlruns/0/e9fc2df4b33741099f1335f3ac6974e5/artifacts/d2_wm_dream/d2_wm_dream/0080001.npz'"
     ]
    }
   ],
   "source": [
    "# Montezuma\n",
    "\n",
    "make_gif('atari_pong', 'e9fc2df4b33741099f1335f3ac6974e5', '0080001')\n",
    "# make_gif('atari_pong', '83e5def4975242ccbf16a3ca8f62a674', '0500001')"
   ]
  },
  {
   "cell_type": "code",
   "execution_count": null,
   "metadata": {},
   "outputs": [],
   "source": []
  }
 ],
 "metadata": {
  "kernelspec": {
   "display_name": "ahmad-pydreamer",
   "language": "python",
   "name": "python3"
  },
  "language_info": {
   "codemirror_mode": {
    "name": "ipython",
    "version": 3
   },
   "file_extension": ".py",
   "mimetype": "text/x-python",
   "name": "python",
   "nbconvert_exporter": "python",
   "pygments_lexer": "ipython3",
   "version": "3.9.16"
  },
  "orig_nbformat": 4,
  "vscode": {
   "interpreter": {
    "hash": "8d1040dc2a5c3b89e697fac62c7070ebe67ee767a2427ba40d0fe98709a99e4c"
   }
  }
 },
 "nbformat": 4,
 "nbformat_minor": 2
}
