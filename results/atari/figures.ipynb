{
 "cells": [
  {
   "cell_type": "code",
   "execution_count": null,
   "metadata": {},
   "outputs": [],
   "source": [
    "import numpy as np\n",
    "import pandas as pd\n",
    "from pathlib import Path\n",
    "# import hvplot.pandas  # noqa\n",
    "import holoviews as hv\n",
    "\n",
    "hv.extension('bokeh', 'matplotlib')\n",
    "hv.output(backend='matplotlib', fig='svg')\n",
    "hv.opts.defaults(\n",
    "    hv.opts.Curve(show_grid=True, fig_size=150, aspect=1.5, linewidth=1.5),\n",
    "    # hv.opts.Layout(fig_size=150),\n",
    ")"
   ]
  },
  {
   "cell_type": "code",
   "execution_count": null,
   "metadata": {},
   "outputs": [],
   "source": [
    "## Data \n",
    "\n",
    "# PyDreamer\n",
    "\n",
    "df = pd.concat([pd.read_csv(f) for f in Path('runs').glob('*.csv')])\n",
    "df['method'] = 'pydreamer'\n",
    "# discretize to 1e6 steps\n",
    "df['env_steps'] = (df['env_steps'] / 1e6).apply(np.ceil) * 1e6  \n",
    "df = df.groupby(['env', 'method', 'run', 'env_steps'])[['return']].mean().reset_index()\n",
    "df1 = df\n",
    "\n",
    "# DreamerV2\n",
    "\n",
    "df = pd.read_csv('../baselines/atari-dreamerv2.csv')\n",
    "df = df[df['method'] == 'nosched']  # 'nosched' = main paper result\n",
    "df['method'] = 'dreamerv2'\n",
    "df2 = df\n",
    "df\n",
    "\n",
    "# Union\n",
    "\n",
    "df = pd.concat([df1, df2])\n",
    "# aggregate runs\n",
    "df = df.groupby(['method', 'env', 'env_steps'])['return'].agg(['mean', 'std', 'count']).reset_index()\n",
    "df = df.rename(columns={'mean': 'return', 'std': 'return_std'})\n",
    "data = df\n"
   ]
  },
  {
   "cell_type": "code",
   "execution_count": null,
   "metadata": {},
   "outputs": [],
   "source": [
    "# Pong\n",
    "\n",
    "env = 'atari_pong'\n",
    "df_env = data[data['env'] == env]\n",
    "\n",
    "fig = hv.Overlay([\n",
    "    hv.Curve(df_method, 'env_steps', 'return', group=env, label=method).opts(\n",
    "        xlim=(0, 15e6),\n",
    "        ylim=(-22, 22),\n",
    "    )\n",
    "    * \n",
    "    hv.Spread(df_method, 'env_steps', ['return', 'return_std']).opts(\n",
    "        alpha=0.2,\n",
    "    )\n",
    "    for method, df_method\n",
    "    in df_env.groupby('method')\n",
    "]).opts(title=env)\n",
    "\n",
    "hv.save(fig, 'figures/atari_pong.png', dpi=144)\n",
    "fig"
   ]
  }
 ],
 "metadata": {
  "interpreter": {
   "hash": "5edc5171bde170568d9b218d33d0e3dc4de16dbdd983c2ff34b21341823ff124"
  },
  "kernelspec": {
   "display_name": "Python 3.8.5 64-bit ('pydreamer': conda)",
   "name": "python3"
  },
  "language_info": {
   "codemirror_mode": {
    "name": "ipython",
    "version": 3
   },
   "file_extension": ".py",
   "mimetype": "text/x-python",
   "name": "python",
   "nbconvert_exporter": "python",
   "pygments_lexer": "ipython3",
   "version": "3.8.5"
  },
  "orig_nbformat": 4
 },
 "nbformat": 4,
 "nbformat_minor": 2
}
